{
 "cells": [
  {
   "cell_type": "markdown",
   "metadata": {},
   "source": [
    "## Following a youtube tutorial to get basics of Tensorflow and using MNIST dataset\n",
    "\n",
    "https://www.youtube.com/watch?v=eU0FFjYumCI&t=380s\n"
   ]
  }
 ],
 "metadata": {
  "language_info": {
   "name": "python"
  }
 },
 "nbformat": 4,
 "nbformat_minor": 2
}
